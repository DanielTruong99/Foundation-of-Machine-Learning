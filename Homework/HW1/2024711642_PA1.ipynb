{
 "cells": [
  {
   "cell_type": "markdown",
   "metadata": {},
   "source": [
    "## 0 - Introduction\n",
    "\n",
    "Welcome to the <span style=\"color:yellowgreen\">Foundations of Machine Learning</span> (ECE5984_41) course!\n",
    "\n",
    "This is the <span style=\"color:red\">first</span> lab practice for this class. You will implement linear regression algorithm and apply it to the provided dataset.\n",
    "\n",
    "### Outline\n",
    "- [ 1 - Packages ](#1-packages)\n",
    "- [ 2 - Problem Statement and Dataset ](#2-problem-statement-and-dataset)\n",
    "- [ 3 - Linear Regression ](#3-linear-regression)\n",
    "  - [ 3.1 Normal Equation ](#31-normal-equation) - Exercise 1\n",
    "  - [ 3.2 Gradient Descent ](#32-gradient-descent) - Exercise 2, Exercise 3, Exercise 4"
   ]
  },
  {
   "cell_type": "markdown",
   "metadata": {},
   "source": [
    "## 1. Packages \n",
    "\n",
    "You have to install and use below packages for your HW#1.\n",
    "- [numpy](https://www.numpy.org): Fundamental package for matrix computation with python.\n",
    "- [matplotlib](https://matplotlib.org): Package for visualization of graph with python.\n",
    "- [pandas](https://pandas.pydata.org): Open source package for data analysis and manipulation.\n",
    "\n",
    "**Do not use other machine learning packages in this homework, e.g., *tensorflow*, *pytorch*, *jax*, etc.**"
   ]
  },
  {
   "cell_type": "code",
   "execution_count": 4,
   "metadata": {},
   "outputs": [],
   "source": [
    "import math\n",
    "import copy\n",
    "import numpy as np\n",
    "import matplotlib.pyplot as plt\n",
    "import pandas as pd\n",
    "%matplotlib inline"
   ]
  },
  {
   "cell_type": "markdown",
   "metadata": {},
   "source": [
    "## 2. Problem Statement and Dataset"
   ]
  },
  {
   "cell_type": "markdown",
   "metadata": {},
   "source": [
    "### Problem Statement\n",
    "\n",
    "[Student Marks Dataset](https://www.kaggle.com/datasets/nikhil7280/student-performance-multiple-linear-regression)\n",
    "\n",
    "The dataset consists 100 samples of Marks(Grades) of students including their \"study time\" & \"number of courses\".\n",
    "\n",
    "In this homework, we would like to fit the linear regression model on this dataset. For practice, we will only use \"study time\" attribute."
   ]
  },
  {
   "cell_type": "markdown",
   "metadata": {},
   "source": [
    "### Dataset\n",
    "\n",
    "You will start by loading the dataset. Make sure the attached 'Student_Marks.csv' file is in your current directory path (can be downloaded from icampus).\n",
    "\n",
    "Each column describes the below attributes:\n",
    "- \\[ time_study \\]: Total hour the student has studied.\n",
    "- \\[ Marks \\]: The final score the student has achieved.\n",
    "\n",
    "Run below cells and take a look at the dataset!"
   ]
  },
  {
   "cell_type": "code",
   "execution_count": 5,
   "metadata": {},
   "outputs": [
    {
     "data": {
      "text/html": [
       "<div>\n",
       "<style scoped>\n",
       "    .dataframe tbody tr th:only-of-type {\n",
       "        vertical-align: middle;\n",
       "    }\n",
       "\n",
       "    .dataframe tbody tr th {\n",
       "        vertical-align: top;\n",
       "    }\n",
       "\n",
       "    .dataframe thead th {\n",
       "        text-align: right;\n",
       "    }\n",
       "</style>\n",
       "<table border=\"1\" class=\"dataframe\">\n",
       "  <thead>\n",
       "    <tr style=\"text-align: right;\">\n",
       "      <th></th>\n",
       "      <th>time_study</th>\n",
       "      <th>Marks</th>\n",
       "    </tr>\n",
       "  </thead>\n",
       "  <tbody>\n",
       "    <tr>\n",
       "      <th>0</th>\n",
       "      <td>4.508</td>\n",
       "      <td>19.202</td>\n",
       "    </tr>\n",
       "    <tr>\n",
       "      <th>1</th>\n",
       "      <td>0.096</td>\n",
       "      <td>7.734</td>\n",
       "    </tr>\n",
       "    <tr>\n",
       "      <th>2</th>\n",
       "      <td>3.133</td>\n",
       "      <td>13.811</td>\n",
       "    </tr>\n",
       "    <tr>\n",
       "      <th>3</th>\n",
       "      <td>7.909</td>\n",
       "      <td>53.018</td>\n",
       "    </tr>\n",
       "    <tr>\n",
       "      <th>4</th>\n",
       "      <td>7.811</td>\n",
       "      <td>55.299</td>\n",
       "    </tr>\n",
       "  </tbody>\n",
       "</table>\n",
       "</div>"
      ],
      "text/plain": [
       "   time_study   Marks\n",
       "0       4.508  19.202\n",
       "1       0.096   7.734\n",
       "2       3.133  13.811\n",
       "3       7.909  53.018\n",
       "4       7.811  55.299"
      ]
     },
     "execution_count": 5,
     "metadata": {},
     "output_type": "execute_result"
    }
   ],
   "source": [
    "# Load the dataset\n",
    "dataset = pd.read_csv(\"./Student_Marks.csv\")\n",
    "\n",
    "# Display top 5 elements\n",
    "dataset.head(5)"
   ]
  },
  {
   "cell_type": "code",
   "execution_count": 6,
   "metadata": {},
   "outputs": [
    {
     "data": {
      "text/plain": [
       "time_study    float64\n",
       "Marks         float64\n",
       "dtype: object"
      ]
     },
     "execution_count": 6,
     "metadata": {},
     "output_type": "execute_result"
    }
   ],
   "source": [
    "# check data type of each attributes\n",
    "dataset.dtypes"
   ]
  },
  {
   "cell_type": "code",
   "execution_count": 7,
   "metadata": {},
   "outputs": [
    {
     "data": {
      "text/plain": [
       "(100, 2)"
      ]
     },
     "execution_count": 7,
     "metadata": {},
     "output_type": "execute_result"
    }
   ],
   "source": [
    "# check dataset shape: (num data, num attributes)\n",
    "dataset.shape"
   ]
  },
  {
   "cell_type": "code",
   "execution_count": 8,
   "metadata": {},
   "outputs": [
    {
     "name": "stdout",
     "output_type": "stream",
     "text": [
      "The shape of data is (100,)\n",
      "The shape of label is (100,)\n",
      "\n",
      "The first Five elements of data are [4.508 0.096 3.133 7.909 7.811]\n",
      "The first Five elements of label are [19.202  7.734 13.811 53.018 55.299]\n",
      "\n"
     ]
    },
    {
     "data": {
      "image/png": "[encoded data removed]",
      "text/plain": [
       "<Figure size 640x480 with 1 Axes>"
      ]
     },
     "metadata": {},
     "output_type": "display_data"
    }
   ],
   "source": [
    "# Extract \"Hours Studied\" and \"Performance Index\" attributes. \n",
    "# Each attributes will be the data and label, respectively.\n",
    "data = dataset[\"time_study\"].to_numpy()\n",
    "label = dataset[\"Marks\"].to_numpy()\n",
    "\n",
    "# Check data statistics\n",
    "print(\"The shape of data is\", data.shape)\n",
    "print(\"The shape of label is\", label.shape)\n",
    "print()\n",
    "\n",
    "print(\"The first Five elements of data are\", data[:5])\n",
    "print(\"The first Five elements of label are\", label[:5])\n",
    "print()\n",
    "\n",
    "# Plot data\n",
    "plt.scatter(data, label, marker='x', c='r')\n",
    "plt.title(\"Study Time - Grade\")\n",
    "plt.xlabel(\"Study Time\")\n",
    "plt.ylabel(\"Grade\")\n",
    "plt.show()"
   ]
  },
  {
   "cell_type": "markdown",
   "metadata": {},
   "source": [
    "## 3. Linear Regression"
   ]
  },
  {
   "cell_type": "markdown",
   "metadata": {},
   "source": [
    "### 3.1 Normal Equation"
   ]
  },
  {
   "cell_type": "markdown",
   "metadata": {},
   "source": [
    "### <span style=\"color:#ffd33d\"> Exercise 1 </span>: Complete the code for the normal equation"
   ]
  },
  {
   "cell_type": "code",
   "execution_count": 9,
   "metadata": {},
   "outputs": [
    {
     "name": "stdout",
     "output_type": "stream",
     "text": [
      "w: 5.688750, b: 1.223858\n"
     ]
    }
   ],
   "source": [
    "# Complete the code for the normal equation\n",
    "def normal_equation(data, label):\n",
    "    \"\"\"\n",
    "    Directly compute optimal w* = (w, b) of the linear regression model\n",
    "    \n",
    "    Args:\n",
    "        data    (np.ndarray): Shape (N, ) Input ot the model\n",
    "        label   (np.ndarray): Shape (N, ) Label of the data\n",
    "    \n",
    "    Return:\n",
    "        w       (np.ndarray): weight(slope) of the linear regression model\n",
    "        b       (np.ndarray): bias of the linear regression model \n",
    "    \"\"\"\n",
    "    #[NOTE] write your from code here! \n",
    "    X = np.vstack([data, np.ones([1, data.shape[0]])]).T\n",
    "    Y = np.reshape(label, (label.shape[0], 1))\n",
    "    theta = np.linalg.inv(X.T @ X) @ X.T @ Y \n",
    "    w = theta[0, 0]; b = theta[1, 0]\n",
    "    return w, b\n",
    "\n",
    "w, b = normal_equation(data, label)\n",
    "print(f\"w: {w:.6f}, b: {b:.6f}\")"
   ]
  },
  {
   "cell_type": "markdown",
   "metadata": {},
   "source": [
    "Plot your linear regression model and check if it works well"
   ]
  },
  {
   "cell_type": "code",
   "execution_count": 10,
   "metadata": {},
   "outputs": [
    {
     "data": {
      "image/png": "[encoded data removed]",
      "text/plain": [
       "<Figure size 640x480 with 1 Axes>"
      ]
     },
     "metadata": {},
     "output_type": "display_data"
    }
   ],
   "source": [
    "# Obtain weight and bias of your linear regression model\n",
    "w, b = normal_equation(data, label)\n",
    "\n",
    "# Plot data\n",
    "plt.scatter(data, label, marker='x', c='r')\n",
    "plt.title(\"Study Time - Grade\")\n",
    "plt.xlabel(\"Study Time\")\n",
    "plt.ylabel(\"Grade\")\n",
    "\n",
    "x_min, x_max = 0, math.ceil(max(data))\n",
    "y_min, y_max = 0, math.ceil(max(label))\n",
    "\n",
    "x = np.array([x_min, x_max])\n",
    "y = w * x + b\n",
    "plt.plot(x, y)\n",
    "\n",
    "plt.show()\n"
   ]
  },
  {
   "cell_type": "markdown",
   "metadata": {},
   "source": [
    "### 3.2 Gradient Descent"
   ]
  },
  {
   "cell_type": "markdown",
   "metadata": {},
   "source": [
    "### <span style=\"color:#ffd33d\"> Exercise 2 </span>: Complete the code for computing the loss(cost)"
   ]
  },
  {
   "cell_type": "markdown",
   "metadata": {},
   "source": [
    "\\> Here, the <span style=\"color:skyblue\">compute_loss()</span> method computes the loss of the linear regression model. \n",
    "\n",
    "Feel free to change or add variables, but do not modify the method name and its arguements."
   ]
  },
  {
   "cell_type": "code",
   "execution_count": 11,
   "metadata": {},
   "outputs": [],
   "source": [
    "def compute_loss(data, label, w, b):\n",
    "    \"\"\"\n",
    "    Compute the loss(cost) of the linear regression model, given data and label.\n",
    "\n",
    "    Args:\n",
    "        data    (np.ndarray): Shape (N, ) Input to the model\n",
    "        label   (np.ndarray): Shape (N, ) Label of the data\n",
    "        w       (float): Weight of the linear regression model\n",
    "        b       (float): Bias of the linear regression model\n",
    "    \n",
    "    Return:\n",
    "        total_loss (float): Total loss of the linear regression model, given data and label\n",
    "    \"\"\"\n",
    "    total_loss = 0\n",
    "\n",
    "    #[NOTE] write your code here!\n",
    "    N = data.shape[0]\n",
    "    predicted_label = w * data + b\n",
    "    error = predicted_label - label\n",
    "    total_loss = 0.5 * 1/N * np.sum(np.square(error)) \n",
    "\n",
    "    return total_loss\n"
   ]
  },
  {
   "cell_type": "markdown",
   "metadata": {},
   "source": [
    "### <span style=\"color:#ffd33d\"> Exercise 4 </span>: Complete the code for computing the gradient of the loss w.r.t weights and bias"
   ]
  },
  {
   "cell_type": "markdown",
   "metadata": {},
   "source": [
    "\\> Here, the <span style=\"color:skyblue\">compute_gradient()</span> method computes the gradient of the loss with respect to the parameters of the linear regression model.\n",
    "\n",
    "Feel free to change or add variables, but do not modify the method name and its arguments."
   ]
  },
  {
   "cell_type": "code",
   "execution_count": 12,
   "metadata": {},
   "outputs": [],
   "source": [
    "def compute_gradient(data, label, w, b):\n",
    "    \"\"\"\n",
    "    Compute the loss(cost) of the linear regression model, given data and label.\n",
    "\n",
    "    Args:\n",
    "        data    (np.ndarray): Shape (N, ) Input to the model\n",
    "        label   (np.ndarray): Shape (N, ) Label of the data\n",
    "        w       (float): Weight of the linear regression model\n",
    "        b       (float): Bias of the linear regression model\n",
    "    \n",
    "    Return:\n",
    "       grad_w   (float): The gradient of the loss w.r.t weight w\n",
    "       grad_b   (float): The gradient of the loss w.r.t bias b\n",
    "    \"\"\"\n",
    "    grad_w, grad_b = 0, 0\n",
    "\n",
    "    #[NOTE] write your code here!\n",
    "    N = data.shape[0]\n",
    "    X = np.vstack([data, np.ones([1, data.shape[0]])]).T\n",
    "    Y = np.reshape(label, (label.shape[0], 1))\n",
    "    theta = np.array([[w], [b]])\n",
    "    grad_loss = 1/N * (X @ theta - Y).T @ X\n",
    "\n",
    "    grad_w = grad_loss[0, 0]; grad_b = grad_loss[0, 1]\n",
    "    return grad_w, grad_b"
   ]
  },
  {
   "cell_type": "markdown",
   "metadata": {},
   "source": [
    "### <span style=\"color:#ffd33d\"> Exercise 4 </span>: Complete the code of gradient descent algorithm"
   ]
  },
  {
   "cell_type": "markdown",
   "metadata": {},
   "source": [
    "\\> <span style=\"color:skyblue\">gradient_descent()</span> method applies gradient descent on the given dataset. You should make 'loop' inside this method to iteratively update w and b. You __**must**__ use <span style=\"color:skyblue\">compute_loss()</span> and <span style=\"color:skyblue\">compute_gradient()</span> method to calculate loss and gradient, respectively.\n",
    "\n",
    "Also, for the purpose of visualization of the training curve, this method returns some 'history' lists. You can just simply append updated values to the corresponding 'history' list.\n",
    "\n",
    "Feel free to change or add variables, but do not modify the method name, its arguments, and return values."
   ]
  },
  {
   "cell_type": "code",
   "execution_count": 65,
   "metadata": {},
   "outputs": [],
   "source": [
    "def gradient_descent(data, label, w_init, b_init, iters=1500, lr=0.0001):\n",
    "    \"\"\"\n",
    "    Performs batch gradient descent to obatain weight and bias of the linear regression model.\n",
    "    \n",
    "    Args:\n",
    "      data    (np.ndarray): Shape (N,)\n",
    "      label   (np.ndarray): Shape (N,)\n",
    "      w_init  (float): Initial value of weight of the model\n",
    "      b_init  (float): Initial values of bias of the model\n",
    "      lr      (float): Learning rate\n",
    "      iters   (int): Number of iterations to run gradient descent\n",
    "    Returns\n",
    "      w             (float): Weight of the 1D linear regression model obtained with BGD\n",
    "      b             (float): Bias of the 1D linear regression model obtained with BGD\n",
    "      loss_history  (list): loss values of every iteration steps\n",
    "      w_history     (list): w values of every iteration steps\n",
    "      b_history     (list): b values of every iteration steps\n",
    "    \"\"\"\n",
    "    loss_history = []\n",
    "    w_history = []\n",
    "    b_history = []\n",
    "    w = w_init\n",
    "    b = b_init\n",
    "    N = data.shape[0]\n",
    "    minibatch_size = 32\n",
    "\n",
    "    loss = 0\n",
    "    for i in range(iters):\n",
    "        #[NOTE] write your code here!\n",
    "        # Shuffle the training data\n",
    "        random_index = list(np.random.permutation(N))\n",
    "        shuffled_data = data[random_index]\n",
    "        shuffled_label = label[random_index]\n",
    "        batch_num = int(N/minibatch_size)\n",
    "      \n",
    "        mean_grad_w = 0; mean_grad_b = 0;\n",
    "\n",
    "        # Loop through each minibatch data, calculate minibatch gradient\n",
    "        for batch_index in range(batch_num):\n",
    "            minibatch_data = shuffled_data[(batch_index * minibatch_size) : (minibatch_size * (batch_index + 1))]\n",
    "            minibatch_label = shuffled_label[(batch_index * minibatch_size) : (minibatch_size * (batch_index + 1))]\n",
    "            \n",
    "            # Compute batch gradient\n",
    "            grad_w, grad_b = compute_gradient(minibatch_data, minibatch_label, w, b)\n",
    "            mean_grad_w = mean_grad_w + grad_w\n",
    "            mean_grad_b = mean_grad_b + grad_b\n",
    "            \n",
    "        # Handle the last batch\n",
    "        if N % minibatch_size != 0:\n",
    "          minibatch_data = shuffled_data[(batch_index + 1) * minibatch_size : N]\n",
    "          minibatch_label = shuffled_label[(batch_index + 1) * minibatch_size : N]\n",
    "          \n",
    "          # Compute batch gradient\n",
    "          grad_w, grad_b = compute_gradient(minibatch_data, minibatch_label, w, b)\n",
    "          mean_grad_w = mean_grad_w + grad_w\n",
    "          mean_grad_b = mean_grad_b + grad_b\n",
    "\n",
    "          batch_num = batch_num + 1\n",
    "\n",
    "\n",
    "\n",
    "        # Calculate mean minibatch gradient\n",
    "        mean_grad_w = mean_grad_w / batch_num; mean_grad_b = mean_grad_b / batch_num\n",
    "        \n",
    "        # Update parameters by gradient descent\n",
    "        w = w - lr * mean_grad_w; b = b - lr * mean_grad_b\n",
    "\n",
    "        # Compute loss\n",
    "        loss = compute_loss(data, label, w, b)\n",
    "        \n",
    "        # Save training history\n",
    "        loss_history.append(loss); w_history.append(w); b_history.append(b);\n",
    "\n",
    "        # Check early stopping condition\n",
    "        # if len(loss_history) > 1:\n",
    "        #   early_stop_criterion = (np.abs(loss_history[-1] - loss_history[-2]) < 1e-16) \n",
    "        #   if early_stop_criterion:\n",
    "        #     break\n",
    "\n",
    "        # print loss for every 100 iterations\n",
    "        if i % 100 == 99:\n",
    "            print(f\"[ {i + 1:4}/{iters} ] Loss: {loss:.4f} | w: {w:.4f} | b: {b:.4f}\")\n",
    "    \n",
    "    return w, b, loss_history, w_history, b_history"
   ]
  },
  {
   "cell_type": "markdown",
   "metadata": {},
   "source": [
    "Now apply your gradient descent algorithm. (Also try other hyperparameter values!)"
   ]
  },
  {
   "cell_type": "code",
   "execution_count": 91,
   "metadata": {},
   "outputs": [
    {
     "name": "stdout",
     "output_type": "stream",
     "text": [
      "[  100/10000 ] Loss: 15.3040 | w: 5.1448 | b: 0.9580\n",
      "[  200/10000 ] Loss: 11.4458 | w: 5.6544 | b: 1.0540\n",
      "[  300/10000 ] Loss: 11.4046 | w: 5.6934 | b: 1.0632\n",
      "[  400/10000 ] Loss: 11.3988 | w: 5.7071 | b: 1.0676\n",
      "[  500/10000 ] Loss: 11.3986 | w: 5.7086 | b: 1.0654\n",
      "[  600/10000 ] Loss: 11.4020 | w: 5.6979 | b: 1.0656\n",
      "[  700/10000 ] Loss: 11.4051 | w: 5.6910 | b: 1.0697\n",
      "[  800/10000 ] Loss: 11.3971 | w: 5.7186 | b: 1.0848\n",
      "[  900/10000 ] Loss: 11.3971 | w: 5.7181 | b: 1.0872\n",
      "[ 1000/10000 ] Loss: 11.3968 | w: 5.7137 | b: 1.0902\n",
      "[ 1100/10000 ] Loss: 11.3986 | w: 5.7006 | b: 1.0895\n",
      "[ 1200/10000 ] Loss: 11.3968 | w: 5.7152 | b: 1.0906\n",
      "[ 1300/10000 ] Loss: 11.3967 | w: 5.7104 | b: 1.0925\n",
      "[ 1400/10000 ] Loss: 11.3985 | w: 5.6991 | b: 1.0961\n",
      "[ 1500/10000 ] Loss: 11.3966 | w: 5.7072 | b: 1.1012\n",
      "[ 1600/10000 ] Loss: 11.3984 | w: 5.6974 | b: 1.1029\n",
      "[ 1700/10000 ] Loss: 11.3966 | w: 5.7157 | b: 1.1077\n",
      "[ 1800/10000 ] Loss: 11.4062 | w: 5.7399 | b: 1.1092\n",
      "[ 1900/10000 ] Loss: 11.3988 | w: 5.7252 | b: 1.1086\n",
      "[ 2000/10000 ] Loss: 11.3977 | w: 5.7213 | b: 1.1117\n",
      "[ 2100/10000 ] Loss: 11.3977 | w: 5.7212 | b: 1.1147\n",
      "[ 2200/10000 ] Loss: 11.3966 | w: 5.7160 | b: 1.1164\n",
      "[ 2300/10000 ] Loss: 11.3975 | w: 5.6975 | b: 1.1135\n",
      "[ 2400/10000 ] Loss: 11.3961 | w: 5.7062 | b: 1.1146\n",
      "[ 2500/10000 ] Loss: 11.3965 | w: 5.7003 | b: 1.1200\n",
      "[ 2600/10000 ] Loss: 11.3959 | w: 5.7016 | b: 1.1293\n",
      "[ 2700/10000 ] Loss: 11.3955 | w: 5.7059 | b: 1.1346\n",
      "[ 2800/10000 ] Loss: 11.3971 | w: 5.6925 | b: 1.1369\n",
      "[ 2900/10000 ] Loss: 11.4001 | w: 5.7244 | b: 1.1431\n",
      "[ 3000/10000 ] Loss: 11.3959 | w: 5.7106 | b: 1.1465\n",
      "[ 3100/10000 ] Loss: 11.3965 | w: 5.6928 | b: 1.1454\n",
      "[ 3200/10000 ] Loss: 11.3968 | w: 5.6909 | b: 1.1480\n",
      "[ 3300/10000 ] Loss: 11.3952 | w: 5.7034 | b: 1.1548\n",
      "[ 3400/10000 ] Loss: 11.3951 | w: 5.6989 | b: 1.1569\n",
      "[ 3500/10000 ] Loss: 11.3953 | w: 5.6928 | b: 1.1678\n",
      "[ 3600/10000 ] Loss: 11.3950 | w: 5.6936 | b: 1.1755\n",
      "[ 3700/10000 ] Loss: 11.3956 | w: 5.6899 | b: 1.1723\n",
      "[ 3800/10000 ] Loss: 11.3948 | w: 5.6968 | b: 1.1745\n",
      "[ 3900/10000 ] Loss: 11.3976 | w: 5.6823 | b: 1.1727\n",
      "[ 4000/10000 ] Loss: 11.3956 | w: 5.7052 | b: 1.1811\n",
      "[ 4100/10000 ] Loss: 11.3979 | w: 5.7135 | b: 1.1818\n",
      "[ 4200/10000 ] Loss: 11.3996 | w: 5.7171 | b: 1.1835\n",
      "[ 4300/10000 ] Loss: 11.3991 | w: 5.6766 | b: 1.1820\n",
      "[ 4400/10000 ] Loss: 11.3960 | w: 5.7059 | b: 1.1899\n",
      "[ 4500/10000 ] Loss: 11.3971 | w: 5.7094 | b: 1.1917\n",
      "[ 4600/10000 ] Loss: 11.3955 | w: 5.7042 | b: 1.1862\n",
      "[ 4700/10000 ] Loss: 11.3977 | w: 5.7113 | b: 1.1909\n",
      "[ 4800/10000 ] Loss: 11.3957 | w: 5.7043 | b: 1.1920\n",
      "[ 4900/10000 ] Loss: 11.3948 | w: 5.6978 | b: 1.1943\n",
      "[ 5000/10000 ] Loss: 11.3952 | w: 5.7008 | b: 1.1964\n",
      "[ 5100/10000 ] Loss: 11.3965 | w: 5.6822 | b: 1.1900\n",
      "[ 5200/10000 ] Loss: 11.3947 | w: 5.6918 | b: 1.1939\n",
      "[ 5300/10000 ] Loss: 11.3976 | w: 5.7096 | b: 1.2006\n",
      "[ 5400/10000 ] Loss: 11.3981 | w: 5.7112 | b: 1.1987\n",
      "[ 5500/10000 ] Loss: 11.3972 | w: 5.7087 | b: 1.1988\n",
      "[ 5600/10000 ] Loss: 11.4040 | w: 5.7226 | b: 1.1983\n",
      "[ 5700/10000 ] Loss: 11.3954 | w: 5.7027 | b: 1.1948\n",
      "[ 5800/10000 ] Loss: 11.3992 | w: 5.7134 | b: 1.2000\n",
      "[ 5900/10000 ] Loss: 11.3946 | w: 5.6951 | b: 1.1950\n",
      "[ 6000/10000 ] Loss: 11.3946 | w: 5.6917 | b: 1.1987\n",
      "[ 6100/10000 ] Loss: 11.3953 | w: 5.6859 | b: 1.1977\n",
      "[ 6200/10000 ] Loss: 11.3964 | w: 5.6814 | b: 1.1947\n",
      "[ 6300/10000 ] Loss: 11.3973 | w: 5.6781 | b: 1.1966\n",
      "[ 6400/10000 ] Loss: 11.3983 | w: 5.6758 | b: 1.1954\n",
      "[ 6500/10000 ] Loss: 11.3974 | w: 5.6766 | b: 1.2031\n",
      "[ 6600/10000 ] Loss: 11.3950 | w: 5.6858 | b: 1.2050\n",
      "[ 6700/10000 ] Loss: 11.3976 | w: 5.6765 | b: 1.2005\n",
      "[ 6800/10000 ] Loss: 11.3959 | w: 5.6818 | b: 1.2027\n",
      "[ 6900/10000 ] Loss: 11.3953 | w: 5.6841 | b: 1.2059\n",
      "[ 7000/10000 ] Loss: 11.3952 | w: 5.6990 | b: 1.2103\n",
      "[ 7100/10000 ] Loss: 11.3946 | w: 5.6887 | b: 1.2096\n",
      "[ 7200/10000 ] Loss: 11.3945 | w: 5.6905 | b: 1.2105\n",
      "[ 7300/10000 ] Loss: 11.3961 | w: 5.7025 | b: 1.2142\n",
      "[ 7400/10000 ] Loss: 11.3963 | w: 5.7032 | b: 1.2144\n",
      "[ 7500/10000 ] Loss: 11.3948 | w: 5.6865 | b: 1.2114\n",
      "[ 7600/10000 ] Loss: 11.4010 | w: 5.7144 | b: 1.2159\n",
      "[ 7700/10000 ] Loss: 11.3957 | w: 5.6813 | b: 1.2088\n",
      "[ 7800/10000 ] Loss: 11.3946 | w: 5.6916 | b: 1.2073\n",
      "[ 7900/10000 ] Loss: 11.3976 | w: 5.6762 | b: 1.2017\n",
      "[ 8000/10000 ] Loss: 11.3953 | w: 5.6836 | b: 1.2083\n",
      "[ 8100/10000 ] Loss: 11.3952 | w: 5.6994 | b: 1.2087\n",
      "[ 8200/10000 ] Loss: 11.3947 | w: 5.6931 | b: 1.2194\n",
      "[ 8300/10000 ] Loss: 11.3946 | w: 5.6861 | b: 1.2259\n",
      "[ 8400/10000 ] Loss: 11.3947 | w: 5.6929 | b: 1.2258\n",
      "[ 8500/10000 ] Loss: 11.3956 | w: 5.6794 | b: 1.2215\n",
      "[ 8600/10000 ] Loss: 11.3948 | w: 5.6839 | b: 1.2251\n",
      "[ 8700/10000 ] Loss: 11.3947 | w: 5.6924 | b: 1.2278\n",
      "[ 8800/10000 ] Loss: 11.3946 | w: 5.6897 | b: 1.2337\n",
      "[ 8900/10000 ] Loss: 11.3969 | w: 5.7016 | b: 1.2335\n",
      "[ 9000/10000 ] Loss: 11.3955 | w: 5.6791 | b: 1.2259\n",
      "[ 9100/10000 ] Loss: 11.3959 | w: 5.6775 | b: 1.2244\n",
      "[ 9200/10000 ] Loss: 11.3954 | w: 5.6799 | b: 1.2229\n",
      "[ 9300/10000 ] Loss: 11.3953 | w: 5.6959 | b: 1.2299\n",
      "[ 9400/10000 ] Loss: 11.3951 | w: 5.6954 | b: 1.2282\n",
      "[ 9500/10000 ] Loss: 11.3970 | w: 5.7024 | b: 1.2311\n",
      "[ 9600/10000 ] Loss: 11.3951 | w: 5.6806 | b: 1.2301\n",
      "[ 9700/10000 ] Loss: 11.3945 | w: 5.6857 | b: 1.2321\n",
      "[ 9800/10000 ] Loss: 11.3954 | w: 5.6951 | b: 1.2372\n",
      "[ 9900/10000 ] Loss: 11.3973 | w: 5.7025 | b: 1.2347\n",
      "[ 10000/10000 ] Loss: 11.3953 | w: 5.6792 | b: 1.2287\n",
      "w,b found by gradient descent: 5.6792263885911645 1.2287004504915153\n",
      "w,b found by normal equation: 5.688750421250463 1.2238581075028945\n"
     ]
    }
   ],
   "source": [
    "# initial values of w and b\n",
    "w_init, b_init = .0, .0\n",
    "\n",
    "# hyperparameters for gradient descent algorithm\n",
    "iters = 10000\n",
    "learning_rate = 0.001\n",
    "\n",
    "# obtain w and b with gradient descent\n",
    "w_gd, b_gd, loss_history, w_history, b_history = gradient_descent(\n",
    "                                                data, label, w_init, b_init,\n",
    "                                                iters=iters,\n",
    "                                                lr=learning_rate,\n",
    "                                            )\n",
    "\n",
    "print(\"w,b found by gradient descent:\", w_gd, b_gd)\n",
    "\n",
    "# obtain w and b with normal equation\n",
    "w_ne, b_ne = normal_equation(data, label)\n",
    "print(\"w,b found by normal equation:\", w_ne, b_ne)"
   ]
  },
  {
   "cell_type": "code",
   "execution_count": 85,
   "metadata": {},
   "outputs": [
    {
     "data": {
      "image/png": "[encoded data removed]",
      "text/plain": [
       "<Figure size 640x480 with 1 Axes>"
      ]
     },
     "metadata": {},
     "output_type": "display_data"
    }
   ],
   "source": [
    "loss_history = loss_history[100:] # it is okay to remove this line\n",
    "\n",
    "# plot training curve\n",
    "plt.plot(range(len(loss_history)), loss_history)\n",
    "plt.title(\"Training Curve\")\n",
    "plt.xlabel(\"Iter\")\n",
    "plt.ylabel(\"Loss\")\n",
    "plt.show()"
   ]
  }
 ],
 "metadata": {
  "kernelspec": {
   "display_name": "fid",
   "language": "python",
   "name": "python3"
  },
  "language_info": {
   "codemirror_mode": {
    "name": "ipython",
    "version": 3
   },
   "file_extension": ".py",
   "mimetype": "text/x-python",
   "name": "python",
   "nbconvert_exporter": "python",
   "pygments_lexer": "ipython3",
   "version": "3.9.19"
  }
 },
 "nbformat": 4,
 "nbformat_minor": 2
}
